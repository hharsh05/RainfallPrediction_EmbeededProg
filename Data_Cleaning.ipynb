{
  "nbformat": 4,
  "nbformat_minor": 0,
  "metadata": {
    "colab": {
      "provenance": [],
      "authorship_tag": "ABX9TyMFtI7rMueUylSjUmlBUuNV",
      "include_colab_link": true
    },
    "kernelspec": {
      "name": "python3",
      "display_name": "Python 3"
    },
    "language_info": {
      "name": "python"
    }
  },
  "cells": [
    {
      "cell_type": "markdown",
      "metadata": {
        "id": "view-in-github",
        "colab_type": "text"
      },
      "source": [
        "<a href=\"https://colab.research.google.com/github/hharsh05/RainfallPrediction_EmbeededProg/blob/main/Data_Cleaning.ipynb\" target=\"_parent\"><img src=\"https://colab.research.google.com/assets/colab-badge.svg\" alt=\"Open In Colab\"/></a>"
      ]
    },
    {
      "cell_type": "code",
      "execution_count": null,
      "metadata": {
        "colab": {
          "base_uri": "https://localhost:8080/"
        },
        "id": "1DIfwWo6WTAt",
        "outputId": "59605705-f4f0-459a-d4cc-ea3cc95fc070"
      },
      "outputs": [
        {
          "output_type": "stream",
          "name": "stdout",
          "text": [
            "Initial Data Info:\n",
            "<class 'pandas.core.frame.DataFrame'>\n",
            "RangeIndex: 366 entries, 0 to 365\n",
            "Data columns (total 12 columns):\n",
            " #   Column                  Non-Null Count  Dtype  \n",
            "---  ------                  --------------  -----  \n",
            " 0   day                     366 non-null    int64  \n",
            " 1   pressure                366 non-null    float64\n",
            " 2   maxtemp                 366 non-null    float64\n",
            " 3   temparature             366 non-null    float64\n",
            " 4   mintemp                 366 non-null    float64\n",
            " 5   dewpoint                366 non-null    float64\n",
            " 6   humidity                366 non-null    int64  \n",
            " 7   cloud                   366 non-null    int64  \n",
            " 8   rainfall                366 non-null    object \n",
            " 9   sunshine                366 non-null    float64\n",
            " 10           winddirection  365 non-null    float64\n",
            " 11  windspeed               365 non-null    float64\n",
            "dtypes: float64(8), int64(3), object(1)\n",
            "memory usage: 34.4+ KB\n",
            "None\n",
            "\n",
            "Missing Values:\n",
            "day                       0\n",
            "pressure                  0\n",
            "maxtemp                   0\n",
            "temparature               0\n",
            "mintemp                   0\n",
            "dewpoint                  0\n",
            "humidity                  0\n",
            "cloud                     0\n",
            "rainfall                  0\n",
            "sunshine                  0\n",
            "         winddirection    1\n",
            "windspeed                 1\n",
            "dtype: int64\n",
            "\n",
            "Cleaned Data Info:\n",
            "<class 'pandas.core.frame.DataFrame'>\n",
            "Index: 354 entries, 0 to 365\n",
            "Data columns (total 9 columns):\n",
            " #   Column                  Non-Null Count  Dtype  \n",
            "---  ------                  --------------  -----  \n",
            " 0   day                     354 non-null    int64  \n",
            " 1   pressure                354 non-null    float64\n",
            " 2   temparature             354 non-null    float64\n",
            " 3   humidity                354 non-null    int64  \n",
            " 4   cloud                   354 non-null    int64  \n",
            " 5   rainfall                354 non-null    int64  \n",
            " 6   sunshine                354 non-null    float64\n",
            " 7            winddirection  354 non-null    float64\n",
            " 8   windspeed               354 non-null    float64\n",
            "dtypes: float64(5), int64(4)\n",
            "memory usage: 27.7 KB\n",
            "None\n"
          ]
        },
        {
          "output_type": "stream",
          "name": "stderr",
          "text": [
            "/tmp/ipython-input-3031560921.py:49: FutureWarning: Downcasting behavior in `replace` is deprecated and will be removed in a future version. To retain the old behavior, explicitly call `result.infer_objects(copy=False)`. To opt-in to the future behavior, set `pd.set_option('future.no_silent_downcasting', True)`\n",
            "  df['rainfall'] = df['rainfall'].replace({'yes': 1, 'no': 0})\n"
          ]
        }
      ],
      "source": [
        "import pandas as pd\n",
        "import numpy as np\n",
        "\n",
        "# Load your dataset\n",
        "df = pd.read_csv('Rainfall.csv')\n",
        "\n",
        "# Display initial data information\n",
        "print(\"Initial Data Info:\")\n",
        "print(df.info())\n",
        "\n",
        "# 1. Handling Missing Values\n",
        "# Display missing values\n",
        "print(\"\\nMissing Values:\")\n",
        "print(df.isnull().sum())\n",
        "\n",
        "# Option 1: Drop rows with missing values\n",
        "df.dropna(inplace=True)\n",
        "\n",
        "# Option 2: Fill missing values (example: fill with mean for numerical columns)\n",
        "# df.fillna(df.mean(), inplace=True)\n",
        "\n",
        "# 2. Removing Duplicates\n",
        "df.drop_duplicates(inplace=True)\n",
        "\n",
        "# 3. Data Type Conversion\n",
        "# Convert a column to a specific data type (example: 'date_column' to datetime)\n",
        "#df['date_column'] = pd.to_datetime(df['date_column'], errors='coerce')\n",
        "\n",
        "# 4. Renaming Columns\n",
        "#df.rename(columns={'old_name': 'new_name'}, inplace=True)\n",
        "\n",
        "# 5. Removing Unwanted Characters\n",
        "# Example: Remove special characters from a string column\n",
        "#df['text_column'] = df['text_column'].str.replace(r'[^a-zA-Z0-9\\s]', '', regex=True)\n",
        "\n",
        "# 6. Normalizing Data\n",
        "# Example: Convert text to lowercase\n",
        "#df['text_column'] = df['text_column'].str.lower()\n",
        "\n",
        "# 7. Outlier Detection and Removal\n",
        "# Example: Remove outliers based on z-score\n",
        "from scipy import stats\n",
        "df = df[(np.abs(stats.zscore(df.select_dtypes(include=[np.number]))) < 3).all(axis=1)]\n",
        "\n",
        "# 8. Removing Unuseful Columns\n",
        "# Specify the columns to drop\n",
        "columns_to_drop = ['maxtemp', 'mintemp','dewpoint','cloud','winddirection']  # Replace with actual column names\n",
        "df.drop(columns=columns_to_drop, inplace=True, errors='ignore')\n",
        "df['rainfall'] = df['rainfall'].replace({'yes': 1, 'no': 0})\n",
        "\n",
        "# 9. Final Data Check\n",
        "print(\"\\nCleaned Data Info:\")\n",
        "print(df.info())\n",
        "\n",
        "# Save the cleaned dataset\n",
        "df.to_csv('cleaned_dataset.csv', index=False)"
      ]
    }
  ]
}